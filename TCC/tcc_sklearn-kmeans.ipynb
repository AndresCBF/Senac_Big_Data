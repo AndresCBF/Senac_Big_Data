{
 "cells": [
  {
   "cell_type": "markdown",
   "id": "9ec722f8",
   "metadata": {},
   "source": [
    "## Importando Bibliotecas"
   ]
  },
  {
   "cell_type": "code",
   "execution_count": 37,
   "id": "2e268f5e",
   "metadata": {},
   "outputs": [],
   "source": [
    "import pandas as pd\n",
    "from sklearn.tree import DecisionTreeClassifier,export_graphviz\n",
    "from sklearn.model_selection import train_test_split\n",
    "from sklearn import metrics\n",
    "import numpy as np\n",
    "import matplotlib.pyplot as plt\n"
   ]
  },
  {
   "cell_type": "code",
   "execution_count": 14,
   "id": "1d6acef8",
   "metadata": {},
   "outputs": [],
   "source": [
    "df = pd.read_csv(\"/Users/lucas/TCC/deputados_federais_com_financiamento.csv\")"
   ]
  },
  {
   "cell_type": "markdown",
   "id": "f68caa19",
   "metadata": {},
   "source": [
    "## Limpeza"
   ]
  },
  {
   "cell_type": "code",
   "execution_count": 15,
   "id": "2f2eee6b",
   "metadata": {},
   "outputs": [],
   "source": [
    "df['Decision'] = 'NaN'"
   ]
  },
  {
   "cell_type": "code",
   "execution_count": 16,
   "id": "b23e1b8c",
   "metadata": {},
   "outputs": [],
   "source": [
    "for index, row in df.iterrows():\n",
    "    if row['DS_SIT_TOT_TURNO'] == \"SUPLENTE\" or row['DS_SIT_TOT_TURNO'] == \"N�O ELEITO\" or row['DS_SIT_TOT_TURNO'] == \"#NULO#\" :\n",
    "        df.loc[index,'Decision'] = 0\n",
    "    else: df.loc[index,'Decision'] = 1"
   ]
  },
  {
   "cell_type": "code",
   "execution_count": 17,
   "id": "82de644a",
   "metadata": {},
   "outputs": [],
   "source": [
    "## fatorando\n",
    "\n",
    "df['SG_PARTIDO_F'] = pd.factorize(df['SG_PARTIDO'])[0]\n",
    "df['ST_REELEICAO_F'] = pd.factorize(df['ST_REELEICAO'])[0]\n",
    "df['ST_DECLARAR_BENS_F'] = pd.factorize(df['ST_DECLARAR_BENS'])[0]\n"
   ]
  },
  {
   "cell_type": "code",
   "execution_count": 18,
   "id": "9b4919e5",
   "metadata": {},
   "outputs": [],
   "source": [
    "## Utilizando todo o sample\n",
    "\n",
    "sample = df[[\"CD_SITUACAO_CANDIDATURA\",\"SQ_COLIGACAO\",\"NR_IDADE_DATA_POSSE\",\"CD_GENERO\",\"CD_ESTADO_CIVIL\",\n",
    "             \"CD_COR_RACA\",\"CD_OCUPACAO\",\"VR_DESPESA_MAX_CAMPANHA\",\"FIN_COMERCIALIZACAO_DE_BENS_EVENTOS\",\n",
    "             \"FIN_DOACAO_PELA_INTERNET\",\"FIN_RECURSOS_FINANCIAMENTO_COLETIVO\",\"FIN_ORIGEM_NAO_IDENTIFICADA\",\n",
    "             \"FIN_RECURSOS_OUTROS_CANDIDATOS\",\"FIN_PARTIDO_POLITICO\",\"FIN_RECURSOS_PESSOAS_FISICAS\",\n",
    "             \"RECURSOS_PROPRIOS\",\"FIN_APLICACOES_FINANCEIRAS\",\"SG_PARTIDO_F\",\"ST_REELEICAO_F\",\"ST_DECLARAR_BENS_F\",\"Decision\"]]"
   ]
  },
  {
   "cell_type": "code",
   "execution_count": 19,
   "id": "d2d8ffa1",
   "metadata": {},
   "outputs": [],
   "source": [
    "sample.dropna(inplace=True)"
   ]
  },
  {
   "cell_type": "code",
   "execution_count": 20,
   "id": "64f088a8",
   "metadata": {},
   "outputs": [],
   "source": [
    "sample.Decision=sample.Decision.astype('int')"
   ]
  },
  {
   "cell_type": "code",
   "execution_count": 25,
   "id": "5a251786",
   "metadata": {},
   "outputs": [],
   "source": [
    "# Dividindo os dados em treino e teste:\n",
    "X_train, X_test, y_train, y_test = train_test_split(sample.drop('Decision',axis=1),sample['Decision'],test_size=0.2)"
   ]
  },
  {
   "cell_type": "code",
   "execution_count": 26,
   "id": "c46d91f9",
   "metadata": {},
   "outputs": [
    {
     "data": {
      "text/plain": [
       "((6870, 20), (1718, 20))"
      ]
     },
     "execution_count": 26,
     "metadata": {},
     "output_type": "execute_result"
    }
   ],
   "source": [
    "X_train.shape,X_test.shape"
   ]
  },
  {
   "cell_type": "code",
   "execution_count": 27,
   "id": "544dee8a",
   "metadata": {},
   "outputs": [
    {
     "data": {
      "text/plain": [
       "((6870,), (1718,))"
      ]
     },
     "execution_count": 27,
     "metadata": {},
     "output_type": "execute_result"
    }
   ],
   "source": [
    "y_train.shape,y_test.shape"
   ]
  },
  {
   "cell_type": "code",
   "execution_count": 28,
   "id": "1f4310cc",
   "metadata": {},
   "outputs": [],
   "source": [
    "y_train=y_train.astype('int')\n",
    "y_test=y_test.astype('int')"
   ]
  },
  {
   "cell_type": "markdown",
   "id": "96be3408",
   "metadata": {},
   "source": [
    "# Aplicando K means"
   ]
  },
  {
   "cell_type": "code",
   "execution_count": 29,
   "id": "dc6afda5",
   "metadata": {},
   "outputs": [],
   "source": [
    "from sklearn.preprocessing import StandardScaler\n",
    "scaler = StandardScaler()\n",
    "scaler.fit(X_train)\n",
    "\n",
    "X_train = scaler.transform(X_train)\n",
    "X_test = scaler.transform(X_test)"
   ]
  },
  {
   "cell_type": "code",
   "execution_count": 63,
   "id": "0bd2681c",
   "metadata": {},
   "outputs": [
    {
     "data": {
      "text/plain": [
       "KNeighborsClassifier(n_neighbors=3)"
      ]
     },
     "execution_count": 63,
     "metadata": {},
     "output_type": "execute_result"
    }
   ],
   "source": [
    "from sklearn.neighbors import KNeighborsClassifier\n",
    "classifier = KNeighborsClassifier(n_neighbors=3)\n",
    "classifier.fit(X_train, y_train)"
   ]
  },
  {
   "cell_type": "code",
   "execution_count": 64,
   "id": "06866e79",
   "metadata": {},
   "outputs": [],
   "source": [
    "y_pred = classifier.predict(X_test)"
   ]
  },
  {
   "cell_type": "code",
   "execution_count": 65,
   "id": "20bca44b",
   "metadata": {},
   "outputs": [
    {
     "data": {
      "text/plain": [
       "array([0, 0, 0, ..., 0, 0, 0])"
      ]
     },
     "execution_count": 65,
     "metadata": {},
     "output_type": "execute_result"
    }
   ],
   "source": [
    "y_pred"
   ]
  },
  {
   "cell_type": "markdown",
   "id": "a95356e9",
   "metadata": {},
   "source": [
    "# avaliando"
   ]
  },
  {
   "cell_type": "code",
   "execution_count": 66,
   "id": "4c8d0458",
   "metadata": {},
   "outputs": [
    {
     "name": "stdout",
     "output_type": "stream",
     "text": [
      "[[1576   26]\n",
      " [  66   50]]\n",
      "              precision    recall  f1-score   support\n",
      "\n",
      "           0       0.96      0.98      0.97      1602\n",
      "           1       0.66      0.43      0.52       116\n",
      "\n",
      "    accuracy                           0.95      1718\n",
      "   macro avg       0.81      0.71      0.75      1718\n",
      "weighted avg       0.94      0.95      0.94      1718\n",
      "\n"
     ]
    }
   ],
   "source": [
    "from sklearn.metrics import classification_report, confusion_matrix\n",
    "print(confusion_matrix(y_test, y_pred))\n",
    "print(classification_report(y_test, y_pred))"
   ]
  },
  {
   "cell_type": "markdown",
   "id": "6b399d1a",
   "metadata": {},
   "source": [
    "# Comparing Error Rate with the K Value\n",
    "\n",
    "https://stackabuse.com/k-nearest-neighbors-algorithm-in-python-and-scikit-learn"
   ]
  },
  {
   "cell_type": "code",
   "execution_count": 49,
   "id": "eb2fe1ba",
   "metadata": {},
   "outputs": [],
   "source": [
    "error = []\n",
    "\n",
    "# Calculating error for K values between 1 and 40\n",
    "for i in range(1, 50):\n",
    "    knn = KNeighborsClassifier(n_neighbors=i)\n",
    "    knn.fit(X_train, y_train)\n",
    "    pred_i = knn.predict(X_test)\n",
    "    error.append(np.mean(pred_i != y_test))"
   ]
  },
  {
   "cell_type": "code",
   "execution_count": 50,
   "id": "5d88e785",
   "metadata": {},
   "outputs": [
    {
     "data": {
      "text/plain": [
       "Text(0, 0.5, 'Mean Error')"
      ]
     },
     "execution_count": 50,
     "metadata": {},
     "output_type": "execute_result"
    },
    {
     "data": {
      "image/png": "[encoded data removed]",
      "text/plain": [
       "<Figure size 864x432 with 1 Axes>"
      ]
     },
     "metadata": {
      "needs_background": "light"
     },
     "output_type": "display_data"
    }
   ],
   "source": [
    "plt.figure(figsize=(12, 6))\n",
    "plt.plot(range(1,50), error, color='red', linestyle='dashed', marker='o',\n",
    "         markerfacecolor='blue', markersize=10)\n",
    "plt.title('Error Rate K Value')\n",
    "plt.xlabel('K Value')\n",
    "plt.ylabel('Mean Error')"
   ]
  },
  {
   "cell_type": "code",
   "execution_count": null,
   "id": "4b750013",
   "metadata": {},
   "outputs": [],
   "source": []
  }
 ],
 "metadata": {
  "kernelspec": {
   "display_name": "Python 3 (ipykernel)",
   "language": "python",
   "name": "python3"
  },
  "language_info": {
   "codemirror_mode": {
    "name": "ipython",
    "version": 3
   },
   "file_extension": ".py",
   "mimetype": "text/x-python",
   "name": "python",
   "nbconvert_exporter": "python",
   "pygments_lexer": "ipython3",
   "version": "3.8.2"
  }
 },
 "nbformat": 4,
 "nbformat_minor": 5
}
